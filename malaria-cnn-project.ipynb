{
  "cells": [
    {
      "cell_type": "markdown",
      "metadata": {
        "id": "view-in-github",
        "colab_type": "text"
      },
      "source": [
        "<a href=\"https://colab.research.google.com/github/treasurehub23/malaria-detection/blob/main/malaria-cnn-project.ipynb\" target=\"_parent\"><img src=\"https://colab.research.google.com/assets/colab-badge.svg\" alt=\"Open In Colab\"/></a>"
      ]
    },
    {
      "cell_type": "code",
      "execution_count": 3,
      "metadata": {
        "colab": {
          "base_uri": "https://localhost:8080/"
        },
        "id": "imK9U87A3Me2",
        "outputId": "dfc99835-fd2b-444a-f53f-36e8cdf04d92"
      },
      "outputs": [
        {
          "output_type": "stream",
          "name": "stdout",
          "text": [
            "Using Colab cache for faster access to the 'cell-images-for-detecting-malaria' dataset.\n",
            "Path to dataset files: /kaggle/input/cell-images-for-detecting-malaria\n"
          ]
        }
      ],
      "source": [
        "import kagglehub\n",
        "\n",
        "\n",
        "path = kagglehub.dataset_download(\"iarunava/cell-images-for-detecting-malaria\")\n",
        "\n",
        "print(\"Path to dataset files:\", path)"
      ]
    },
    {
      "cell_type": "code",
      "execution_count": 4,
      "metadata": {
        "id": "6euRfOcw5HL1"
      },
      "outputs": [],
      "source": [
        "import tensorflow as tf\n",
        "import numpy as np\n",
        "import pandas as pd\n",
        "import cv2\n",
        "import os"
      ]
    },
    {
      "cell_type": "code",
      "execution_count": 5,
      "metadata": {
        "id": "3egfYesJqYO-"
      },
      "outputs": [],
      "source": [
        "import shutil\n",
        "destination = \"/content/cell_images\"\n",
        "if not os.path.exists(destination):\n",
        "    shutil.copytree(path, destination)"
      ]
    },
    {
      "cell_type": "code",
      "execution_count": 6,
      "metadata": {
        "colab": {
          "base_uri": "https://localhost:8080/"
        },
        "id": "d9MrHLZSxabl",
        "outputId": "a46059dd-0d30-4424-adc1-96089dbd1f0c"
      },
      "outputs": [
        {
          "output_type": "stream",
          "name": "stdout",
          "text": [
            "🔧 Found nested folder: /content/cell_images/cell_images\n",
            "✅ Removed nested folder: /content/cell_images/cell_images\n",
            "\n",
            "🎉 All nested 'cell_images' folders flattened successfully!\n",
            "\n",
            "📂 Final folder structure:\n",
            "cell_images/\n",
            "  Parasitized/\n",
            "    C172P133ThinF_IMG_20151119_155307_cell_255.png\n",
            "    C89P50ThinF_IMG_20150820_162153_cell_187.png\n",
            "    C60P21thinF_IMG_20150804_104919_cell_132.png\n",
            "  Uninfected/\n",
            "    C144P105ThinF_IMG_20151015_160529_cell_122.png\n",
            "    C120P81ThinF_IMG_20151002_125443_cell_42.png\n",
            "    C4thin_original_IMG_20150608_165620_cell_39.png\n"
          ]
        }
      ],
      "source": [
        "import os\n",
        "import shutil\n",
        "\n",
        "destination = \"/content/cell_images\"\n",
        "\n",
        "def flatten_nested_cell_images(path):\n",
        "    \"\"\"Recursively flatten any nested 'cell_images' folders.\"\"\"\n",
        "    while True:\n",
        "        nested = os.path.join(path, \"cell_images\")\n",
        "        if os.path.exists(nested):\n",
        "            print(f\"🔧 Found nested folder: {nested}\")\n",
        "\n",
        "\n",
        "            for item in os.listdir(nested):\n",
        "                src = os.path.join(nested, item)\n",
        "                dst = os.path.join(path, item)\n",
        "\n",
        "                if not os.path.exists(dst):\n",
        "                    shutil.move(src, dst)\n",
        "                elif os.path.isdir(src):\n",
        "\n",
        "                    for file in os.listdir(src):\n",
        "                        file_src = os.path.join(src, file)\n",
        "                        file_dst = os.path.join(dst, file)\n",
        "                        if not os.path.exists(file_dst):\n",
        "                            shutil.move(file_src, file_dst)\n",
        "\n",
        "                    shutil.rmtree(src, ignore_errors=True)\n",
        "\n",
        "\n",
        "            shutil.rmtree(nested, ignore_errors=True)\n",
        "            print(f\"✅ Removed nested folder: {nested}\")\n",
        "        else:\n",
        "            break\n",
        "\n",
        "\n",
        "if os.path.exists(destination):\n",
        "    flatten_nested_cell_images(destination)\n",
        "    print(\"\\n All nested 'cell_images' folders flattened successfully!\")\n",
        "else:\n",
        "    print(\" Destination folder does not exist.\")\n",
        "\n",
        "\n",
        "\n"
      ]
    },
    {
      "cell_type": "code",
      "execution_count": 7,
      "metadata": {
        "colab": {
          "base_uri": "https://localhost:8080/"
        },
        "id": "0VUbcSZrpptH",
        "outputId": "c7bae7a6-304c-46c2-8479-9831a8823422"
      },
      "outputs": [
        {
          "output_type": "stream",
          "name": "stdout",
          "text": [
            "['Parasitized', 'Uninfected']\n"
          ]
        }
      ],
      "source": [
        "\n",
        "print(os.listdir(destination))"
      ]
    },
    {
      "cell_type": "code",
      "execution_count": 8,
      "metadata": {
        "colab": {
          "base_uri": "https://localhost:8080/"
        },
        "id": "YE6jahVPm-mj",
        "outputId": "2a6e4227-6d83-4cb3-f696-4660ed3d1f52"
      },
      "outputs": [
        {
          "output_type": "stream",
          "name": "stdout",
          "text": [
            "Found 27558 files belonging to 2 classes.\n",
            "Using 22047 files for training.\n",
            "Found 27558 files belonging to 2 classes.\n",
            "Using 5511 files for validation.\n"
          ]
        }
      ],
      "source": [
        "train_ds = tf.keras.utils.image_dataset_from_directory(\n",
        "    destination, validation_split = 0.2, subset =\"training\", labels=\"inferred\", label_mode = \"int\", class_names=['Parasitized', 'Uninfected'], seed = 123, image_size = (64, 64), batch_size = 32)\n",
        "\n",
        "val_ds = tf.keras.utils.image_dataset_from_directory(\n",
        "    destination, validation_split = 0.2, subset =\"validation\", seed = 123, image_size = (64, 64), batch_size = 32)"
      ]
    },
    {
      "cell_type": "code",
      "execution_count": 9,
      "metadata": {
        "colab": {
          "base_uri": "https://localhost:8080/"
        },
        "id": "Dn8jFjJ6ygEM",
        "outputId": "8a404265-d40f-43f9-8f6b-3956b5b3c339"
      },
      "outputs": [
        {
          "output_type": "stream",
          "name": "stdout",
          "text": [
            "['Parasitized', 'Uninfected']\n"
          ]
        }
      ],
      "source": [
        "class_names = train_ds.class_names\n",
        "print(class_names)\n",
        "para = os.path.join(destination, \"Parasitized\")\n",
        "un = os.path.join(destination, \"Uninfected\")"
      ]
    },
    {
      "cell_type": "code",
      "execution_count": 10,
      "metadata": {
        "colab": {
          "base_uri": "https://localhost:8080/"
        },
        "id": "x34uDu5I3o5v",
        "outputId": "e03d436f-2f6c-4177-dfd2-5a1943fb39cc"
      },
      "outputs": [
        {
          "output_type": "stream",
          "name": "stdout",
          "text": [
            "Parasitized: 13780\n",
            "Uninfected: 13780\n"
          ]
        }
      ],
      "source": [
        "print(\"Parasitized:\",len(os.listdir(para)))\n",
        "print(\"Uninfected:\",len(os.listdir(un)))"
      ]
    },
    {
      "cell_type": "code",
      "execution_count": 11,
      "metadata": {
        "colab": {
          "base_uri": "https://localhost:8080/"
        },
        "id": "GOsS5to94skM",
        "outputId": "907b5fed-199d-4765-d192-61223c3a0d8d"
      },
      "outputs": [
        {
          "output_type": "stream",
          "name": "stdout",
          "text": [
            "Images batch shape (32, 64, 64, 3)\n",
            "Labels bat shape:  (32,)\n",
            "{np.int32(0), np.int32(1)}\n"
          ]
        }
      ],
      "source": [
        "for images, labels in train_ds.take(1):\n",
        "  print(\"Images batch shape\", images.shape)\n",
        "  print(\"Labels bat shape: \", labels.shape)\n",
        "  print(set(labels.numpy()))"
      ]
    },
    {
      "cell_type": "code",
      "execution_count": 12,
      "metadata": {
        "id": "YpMETaej2A8Z"
      },
      "outputs": [],
      "source": [
        "\n",
        "train_ds = train_ds.map(lambda x, y: (x / 255.0, y))\n",
        "val_ds = val_ds.map(lambda x, y: (x / 255.0, y))\n",
        "\n"
      ]
    },
    {
      "cell_type": "code",
      "execution_count": 20,
      "metadata": {
        "colab": {
          "base_uri": "https://localhost:8080/"
        },
        "id": "WbCWV5fthfpb",
        "outputId": "184faae4-bdea-4a37-ed9e-0efd0df5dfeb"
      },
      "outputs": [
        {
          "output_type": "stream",
          "name": "stdout",
          "text": [
            "Epoch 1/10\n",
            "\u001b[1m689/689\u001b[0m \u001b[32m━━━━━━━━━━━━━━━━━━━━\u001b[0m\u001b[37m\u001b[0m \u001b[1m88s\u001b[0m 126ms/step - accuracy: 0.6220 - loss: 0.6437 - val_accuracy: 0.7233 - val_loss: 0.5664\n",
            "Epoch 2/10\n",
            "\u001b[1m689/689\u001b[0m \u001b[32m━━━━━━━━━━━━━━━━━━━━\u001b[0m\u001b[37m\u001b[0m \u001b[1m83s\u001b[0m 120ms/step - accuracy: 0.7513 - loss: 0.5293 - val_accuracy: 0.8784 - val_loss: 0.3424\n",
            "Epoch 3/10\n",
            "\u001b[1m689/689\u001b[0m \u001b[32m━━━━━━━━━━━━━━━━━━━━\u001b[0m\u001b[37m\u001b[0m \u001b[1m84s\u001b[0m 122ms/step - accuracy: 0.9006 - loss: 0.2981 - val_accuracy: 0.9165 - val_loss: 0.2087\n",
            "Epoch 4/10\n",
            "\u001b[1m689/689\u001b[0m \u001b[32m━━━━━━━━━━━━━━━━━━━━\u001b[0m\u001b[37m\u001b[0m \u001b[1m141s\u001b[0m 121ms/step - accuracy: 0.9328 - loss: 0.2032 - val_accuracy: 0.9369 - val_loss: 0.1736\n",
            "Epoch 5/10\n",
            "\u001b[1m689/689\u001b[0m \u001b[32m━━━━━━━━━━━━━━━━━━━━\u001b[0m\u001b[37m\u001b[0m \u001b[1m141s\u001b[0m 120ms/step - accuracy: 0.9419 - loss: 0.1756 - val_accuracy: 0.9432 - val_loss: 0.1551\n",
            "Epoch 6/10\n",
            "\u001b[1m689/689\u001b[0m \u001b[32m━━━━━━━━━━━━━━━━━━━━\u001b[0m\u001b[37m\u001b[0m \u001b[1m144s\u001b[0m 122ms/step - accuracy: 0.9456 - loss: 0.1585 - val_accuracy: 0.9437 - val_loss: 0.1504\n",
            "Epoch 7/10\n",
            "\u001b[1m689/689\u001b[0m \u001b[32m━━━━━━━━━━━━━━━━━━━━\u001b[0m\u001b[37m\u001b[0m \u001b[1m86s\u001b[0m 125ms/step - accuracy: 0.9484 - loss: 0.1513 - val_accuracy: 0.9454 - val_loss: 0.1467\n",
            "Epoch 8/10\n",
            "\u001b[1m689/689\u001b[0m \u001b[32m━━━━━━━━━━━━━━━━━━━━\u001b[0m\u001b[37m\u001b[0m \u001b[1m142s\u001b[0m 124ms/step - accuracy: 0.9507 - loss: 0.1415 - val_accuracy: 0.9481 - val_loss: 0.1438\n",
            "Epoch 9/10\n",
            "\u001b[1m689/689\u001b[0m \u001b[32m━━━━━━━━━━━━━━━━━━━━\u001b[0m\u001b[37m\u001b[0m \u001b[1m140s\u001b[0m 121ms/step - accuracy: 0.9518 - loss: 0.1405 - val_accuracy: 0.9479 - val_loss: 0.1460\n",
            "Epoch 10/10\n",
            "\u001b[1m689/689\u001b[0m \u001b[32m━━━━━━━━━━━━━━━━━━━━\u001b[0m\u001b[37m\u001b[0m \u001b[1m83s\u001b[0m 121ms/step - accuracy: 0.9540 - loss: 0.1362 - val_accuracy: 0.9490 - val_loss: 0.1424\n"
          ]
        }
      ],
      "source": [
        "test_model = tf.keras.Sequential([\n",
        "    tf.keras.layers.Input(shape=(64, 64,3)),\n",
        "    tf.keras.layers.Conv2D(16,(3,3), activation='relu'),\n",
        "    tf.keras.layers.MaxPooling2D((2,2)),\n",
        "    tf.keras.layers.Conv2D(32,(3,3), activation='relu'),\n",
        "    tf.keras.layers.MaxPooling2D((2,2)),\n",
        "    tf.keras.layers.Flatten(),\n",
        "    tf.keras.layers.Dropout(0.5),\n",
        "    tf.keras.layers.Dense(1, activation=\"sigmoid\")\n",
        "    ])\n",
        "test_model.compile(optimizer=\"adam\", loss= \"binary_crossentropy\", metrics=[\"accuracy\"] )\n",
        "history = test_model.fit(train_ds, epochs = 10, validation_data=val_ds)"
      ]
    },
    {
      "cell_type": "code",
      "execution_count": 22,
      "metadata": {
        "id": "jt8rrXrh54ON",
        "colab": {
          "base_uri": "https://localhost:8080/",
          "height": 465
        },
        "outputId": "9b28f7e6-7692-4c6a-c1f4-f4f3831bc79a"
      },
      "outputs": [
        {
          "output_type": "display_data",
          "data": {
            "text/plain": [
              "<Figure size 1200x500 with 1 Axes>"
            ],
            "image/png": "[encoded data removed]"
          },
          "metadata": {}
        }
      ],
      "source": [
        "import matplotlib.pyplot as plt\n",
        "\n",
        "acc = history.history[\"accuracy\"]\n",
        "val_acc = history.history[\"val_accuracy\"]\n",
        "loss = history.history[\"loss\"]\n",
        "val_loss = history.history[\"val_loss\"]\n",
        "\n",
        "epochs_range = range(len(acc))\n",
        "\n",
        "plt.figure(figsize=(12, 5))\n",
        "\n",
        "plt.subplot(1, 2, 1)\n",
        "plt.plot(epochs_range, acc, label=\"Training Accuracy\")\n",
        "plt.plot(epochs_range, val_acc, label=\"Validation Accuracy\")\n",
        "plt.legend(loc= \"lower right\")\n",
        "\n",
        "plt.subplot(1, 2, 1)\n",
        "plt.plot(epochs_range, loss, label=\"Training loss\")\n",
        "plt.plot(epochs_range, val_loss, label=\"Validation loss\")\n",
        "plt.legend(loc= \"upper right\")\n",
        "\n",
        "plt.xlabel(\"Epochs\")\n",
        "\n",
        "plt.show()"
      ]
    }
  ],
  "metadata": {
    "colab": {
      "provenance": [],
      "authorship_tag": "ABX9TyOPzB1OP4N2GuhYM11pz7hg",
      "include_colab_link": true
    },
    "kernelspec": {
      "display_name": "Python 3",
      "name": "python3"
    },
    "language_info": {
      "name": "python"
    }
  },
  "nbformat": 4,
  "nbformat_minor": 0
}